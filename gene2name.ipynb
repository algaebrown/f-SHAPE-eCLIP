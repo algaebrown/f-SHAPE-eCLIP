{
 "cells": [
  {
   "cell_type": "code",
   "execution_count": 5,
   "id": "handy-cookie",
   "metadata": {},
   "outputs": [],
   "source": [
    "import pandas as pd\n",
    "import gffutils\n",
    "import os\n",
    "from collections import defaultdict"
   ]
  },
  {
   "cell_type": "code",
   "execution_count": 6,
   "id": "chief-numbers",
   "metadata": {},
   "outputs": [],
   "source": [
    "def gene_id_to_name(db):\n",
    "    \"\"\"\n",
    "    Returns a dictionary containing a gene_id:name translation\n",
    "    Note: may be different if the 'gene_id' or 'gene_name' \n",
    "    keys are not in the source GTF file\n",
    "    (taken from gscripts.region_helpers)\n",
    "    \"\"\"\n",
    "    genes = db.features_of_type('gene')\n",
    "    gene_name_dict = {}\n",
    "    for gene in genes:\n",
    "        gene_id = gene.attributes['gene_id'][0] if type(gene.attributes['gene_id']) == list else gene.attributes['gene_id']\n",
    "        try:\n",
    "            gene_name_dict[gene_id] = gene.attributes['gene_name'][0]  # this is for ENSEMBL-style IDs! \n",
    "        except KeyError:\n",
    "            print(gene.attributes.keys())\n",
    "            print(\"Warning. Key not found for {}\".format(gene))\n",
    "            return 1\n",
    "    return gene_name_dict\n",
    "\n",
    "\n",
    "db_file = '/projects/ps-yeolab3/bay001/annotations/hg19/gencode_v19/gencode.v19.annotation.gtf.db'\n",
    "DATABASE = gffutils.FeatureDB(db_file)"
   ]
  },
  {
   "cell_type": "code",
   "execution_count": 8,
   "id": "textile-maximum",
   "metadata": {},
   "outputs": [
    {
     "data": {
      "text/plain": [
       "'RBFOX2'"
      ]
     },
     "execution_count": 8,
     "metadata": {},
     "output_type": "execute_result"
    }
   ],
   "source": [
    "gene_id_to_name_dictionary = gene_id_to_name(DATABASE)\n",
    "gene_id_to_name_dictionary['ENSG00000100320.18']"
   ]
  },
  {
   "cell_type": "code",
   "execution_count": 9,
   "id": "better-surrey",
   "metadata": {},
   "outputs": [],
   "source": [
    "with open(\"gene2name.txt\", 'w') as o:\n",
    "    for geneid, genename in gene_id_to_name_dictionary.items():\n",
    "        o.write(\"{}\\t{}\\n\".format(geneid, genename))"
   ]
  },
  {
   "cell_type": "code",
   "execution_count": null,
   "id": "organizational-praise",
   "metadata": {},
   "outputs": [],
   "source": []
  }
 ],
 "metadata": {
  "kernelspec": {
   "display_name": "python3essential (tscc)",
   "language": "python",
   "name": "python3essential"
  },
  "language_info": {
   "codemirror_mode": {
    "name": "ipython",
    "version": 3
   },
   "file_extension": ".py",
   "mimetype": "text/x-python",
   "name": "python",
   "nbconvert_exporter": "python",
   "pygments_lexer": "ipython3",
   "version": "3.6.7"
  }
 },
 "nbformat": 4,
 "nbformat_minor": 5
}
